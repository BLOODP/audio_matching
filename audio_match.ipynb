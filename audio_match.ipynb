{
 "cells": [
  {
   "cell_type": "code",
   "execution_count": 1,
   "metadata": {
    "collapsed": true
   },
   "outputs": [],
   "source": [
    "from pydub import AudioSegment\n",
    "import numpy as np\n",
    "import numpy\n",
    "import matplotlib.pyplot as plt\n",
    "import math\n",
    "%matplotlib inline"
   ]
  },
  {
   "cell_type": "code",
   "execution_count": 2,
   "metadata": {
    "collapsed": true
   },
   "outputs": [],
   "source": [
    "song1 = AudioSegment.from_mp3('/Users/heguangqin/Music/xiangmu/Grenade.mp3')\n",
    "song2 = AudioSegment.from_mp3('/Users/heguangqin/Music/xiangmu/If I Die Young.mp3')"
   ]
  },
  {
   "cell_type": "code",
   "execution_count": 10,
   "metadata": {
    "collapsed": false
   },
   "outputs": [
    {
     "name": "stdout",
     "output_type": "stream",
     "text": [
      "('the first song : ', 11023535.0, 44100, 4, 249.96678004535147)\n",
      "('the scond song : ', 10945199.0, 44100, 4, 248.19045351473923)\n"
     ]
    }
   ],
   "source": [
    "print(\"the first song : \",song1.frame_count(),song1.frame_rate,song1.frame_width,song1.duration_seconds)\n",
    "print(\"the scond song : \",song2.frame_count(),song2.frame_rate,song2.frame_width,song2.duration_seconds)"
   ]
  },
  {
   "cell_type": "code",
   "execution_count": 25,
   "metadata": {
    "collapsed": false
   },
   "outputs": [
    {
     "name": "stdout",
     "output_type": "stream",
     "text": [
      "500000\n",
      "10945199\n"
     ]
    }
   ],
   "source": [
    "samples1 = song1.get_array_of_samples()\n",
    "samples2 = song2.get_array_of_samples()\n",
    "sample1_L = np.asarray([samples1[i] for i in range(0,len(samples1),2)])\n",
    "print(len(sample1_L))\n",
    "sample2_L = np.asarray([smaples2[i] for i in range(0,len(samples2),2)])\n",
    "print(len(sample2_L))"
   ]
  },
  {
   "cell_type": "code",
   "execution_count": 24,
   "metadata": {
    "collapsed": false
   },
   "outputs": [
    {
     "name": "stdout",
     "output_type": "stream",
     "text": [
      "(\"the first song's array length : \", 22047070, ' but extracted : ', 11023535)\n",
      "(\"the second song's array length : \", 21890398, ' but extracted : ', 600000)\n"
     ]
    }
   ],
   "source": [
    "print(\"the first song's array length : \",len(samples1),\" but extracted : \",len(sample1_L))\n",
    "print(\"the second song's array length : \",len(samples2),\" but extracted : \",len(sample2_L))"
   ]
  },
  {
   "cell_type": "code",
   "execution_count": 2,
   "metadata": {
    "collapsed": true
   },
   "outputs": [],
   "source": [
    "def audio2frame(signal,frame_length,frame_step,winfunc=lambda x:numpy.ones((x,))):\n",
    "    '''将音频信号转化为帧。\n",
    "\t参数含义：\n",
    "\tsignal:原始音频型号\n",
    "\tframe_length:每一帧的长度(这里指采样点的长度，即采样频率乘以时间间隔)\n",
    "\tframe_step:相邻帧的间隔（同上定义）\n",
    "\twinfunc:lambda函数，用于生成一个向量\n",
    "    '''\n",
    "    signal_length=len(signal) #信号总长度\n",
    "    print('signal_length : ',signal_length)\n",
    "    frame_length=int(round(frame_length)) #以帧帧时间长度\n",
    "    print('frame_length : ',frame_length)\n",
    "    frame_step=int(round(frame_step)) #相邻帧之间的步长\n",
    "    print('frame_step : ',frame_step)\n",
    "    if signal_length<=frame_length: #若信号长度小于一个帧的长度，则帧数定义为1\n",
    "        frames_num=1\n",
    "    else: #否则，计算帧的总长度\n",
    "        frames_num=1+int(math.ceil((1.0*signal_length-frame_length)/frame_step))\n",
    "    print('frames_num : ',frames_num)\n",
    "    pad_length=int((frames_num-1)*frame_step+frame_length) #所有帧加起来总的铺平后的长度\n",
    "    print('pad_length : ',pad_length)\n",
    "    zeros=numpy.zeros((pad_length-signal_length,)) #不够的长度使用0填补，类似于FFT中的扩充数组操作\n",
    "    print('zeros shape : ',zeros.shape,'singal shape : ',len(signal))\n",
    "    pad_signal=numpy.append(signal,zeros) #填补后的信号记为pad_signal\n",
    "    print('pad_signal shape : ',pad_signal.shape)\n",
    "    indices=numpy.tile(numpy.arange(0,frame_length),(frames_num,1))+numpy.tile(numpy.arange(0,frames_num*frame_step,frame_step),(frame_length,1)).T  #相当于对所有帧的时间点进行抽取，得到frames_num*frame_length长度的矩阵\n",
    "    indices=numpy.array(indices,dtype=numpy.int32) #将indices转化为矩阵\n",
    "    frames=pad_signal[indices] #得到帧信号\n",
    "    win=numpy.tile(winfunc(frame_length),(frames_num,1))  #window窗函数，这里默认取1\n",
    "    return frames*win   #返回帧信号矩阵"
   ]
  },
  {
   "cell_type": "code",
   "execution_count": 36,
   "metadata": {
    "collapsed": false
   },
   "outputs": [
    {
     "name": "stdout",
     "output_type": "stream",
     "text": [
      "((24989, 4000), (24811, 4000))\n"
     ]
    }
   ],
   "source": [
    "print(segmented_song1.shape,segmented_song2.shape)"
   ]
  },
  {
   "cell_type": "code",
   "execution_count": 3,
   "metadata": {
    "collapsed": true
   },
   "outputs": [],
   "source": [
    "def deframesignal(frames,signal_length,frame_length,frame_step,winfunc=lambda x:numpy.ones((x,))):\n",
    "    '''定义函数对原信号的每一帧进行变换，应该是为了消除关联性\n",
    "    参数定义：\n",
    "    frames:audio2frame函数返回的帧矩阵\n",
    "    signal_length:信号长度\n",
    "    frame_length:帧长度\n",
    "    frame_step:帧间隔\n",
    "    winfunc:对每一帧加window函数进行分析，默认此处不加window\n",
    "    '''\n",
    "    #对参数进行取整操作\n",
    "    signal_length=round(signal_length) #信号的长度\n",
    "    frame_length=round(frame_length) #帧的长度\n",
    "    frames_num=numpy.shape(frames)[0] #帧的总数\n",
    "    assert numpy.shape(frames)[1]==frame_length,'\"frames\"矩阵大小不正确，它的列数应该等于一帧长度'  #判断frames维度 \n",
    "    indices=numpy.tile(numpy.arange(0,frame_length),(frames_num,1))+numpy.tile(numpy.arange(0,frames_num*frame_step,frame_step),(frame_length,1)).T  #相当于对所有帧的时间点进行抽取，得到frames_num*frame_length长度的矩阵\n",
    "    indices=numpy.array(indices,dtype=numpy.int32)\n",
    "    pad_length=(frames_num-1)*frame_step+frame_length #铺平后的所有信号\n",
    "    if signal_length<=0:\n",
    "        signal_length=pad_length\n",
    "    recalc_signal=numpy.zeros((pad_length,)) #调整后的信号\n",
    "    window_correction=numpy.zeros((pad_length,1)) #窗关联\n",
    "    win=winfunc(frame_length)\n",
    "    for i in range(0,frames_num):\n",
    "        window_correction[indices[i,:]]=window_correction[indices[i,:]]+win+1e-15 #表示信号的重叠程度\n",
    "        recalc_signal[indices[i,:]]=recalc_signal[indices[i,:]]+frames[i,:] #原信号加上重叠程度构成调整后的信号\n",
    "    recalc_signal=recalc_signal/window_correction #新的调整后的信号等于调整信号处以每处的重叠程度 \n",
    "    return recalc_signal[0:signal_length] #返回该新的调整信号\n"
   ]
  },
  {
   "cell_type": "code",
   "execution_count": 4,
   "metadata": {
    "collapsed": true
   },
   "outputs": [],
   "source": [
    "def spectrum_magnitude(frames,NFFT):\n",
    "    '''计算每一帧经过FFY变幻以后的频谱的幅度，若frames的大小为N*L,则返回矩阵的大小为N*NFFT\n",
    "    参数说明：\n",
    "    frames:即audio2frame函数中的返回值矩阵，帧矩阵\n",
    "    NFFT:FFT变换的数组大小,如果帧长度小于NFFT，则帧的其余部分用0填充铺满\n",
    "    '''\n",
    "    complex_spectrum=numpy.fft.rfft(frames,NFFT) #对frames进行FFT变换\n",
    "    return numpy.absolute(complex_spectrum)  #返回频谱的幅度值"
   ]
  },
  {
   "cell_type": "code",
   "execution_count": 5,
   "metadata": {
    "collapsed": true
   },
   "outputs": [],
   "source": [
    "def spectrum_power(frames,NFFT):\n",
    "    '''计算每一帧傅立叶变换以后的功率谱\n",
    "    参数说明：\n",
    "    frames:audio2frame函数计算出来的帧矩阵\n",
    "    NFFT:FFT的大小\n",
    "    '''\n",
    "    return 1.0/NFFT * numpy.square(spectrum_magnitude(frames,NFFT)) #功率谱等于每一点的幅度平方/NFFT"
   ]
  },
  {
   "cell_type": "code",
   "execution_count": 6,
   "metadata": {
    "collapsed": true
   },
   "outputs": [],
   "source": [
    "def log_spectrum_power(frames,NFFT,norm=1):\n",
    "    '''计算每一帧的功率谱的对数形式\n",
    "    参数说明：\n",
    "    frames:帧矩阵，即audio2frame返回的矩阵\n",
    "    NFFT：FFT变换的大小\n",
    "    norm:范数，即归一化系数\n",
    "    '''\n",
    "    spec_power=spectrum_power(frames,NFFT)\n",
    "    spec_power[spec_power<1e-30]=1e-30 #为了防止出现功率谱等于0，因为0无法取对数\n",
    "    log_spec_power=10*numpy.log10(spec_power)\n",
    "    if norm:\n",
    "        return log_spec_power-numpy.max(log_spec_power)\n",
    "    else:\n",
    "        return log_spec_power\n",
    "\n"
   ]
  },
  {
   "cell_type": "code",
   "execution_count": 7,
   "metadata": {
    "collapsed": true
   },
   "outputs": [],
   "source": [
    "def pre_emphasis(signal,coefficient=0.95):\n",
    "    '''对信号进行预加重\n",
    "    参数含义：\n",
    "    signal:原始信号\n",
    "    coefficient:加重系数，默认为0.95\n",
    "    '''\n",
    "    return numpy.append(signal[0],signal[1:]-coefficient*signal[:-1])"
   ]
  },
  {
   "cell_type": "code",
   "execution_count": 8,
   "metadata": {
    "collapsed": true
   },
   "outputs": [],
   "source": [
    "from scipy.fftpack import dct "
   ]
  },
  {
   "cell_type": "code",
   "execution_count": 9,
   "metadata": {
    "collapsed": true
   },
   "outputs": [],
   "source": [
    "def calcMFCC_delta_delta(signal,samplerate=16000,win_length=0.025,win_step=0.01,cep_num=13,filters_num=26,NFFT=512,low_freq=0,high_freq=None,pre_emphasis_coeff=0.97,cep_lifter=22,appendEnergy=True):\n",
    "    '''计算13个MFCC+13个一阶微分系数+13个加速系数,一共39个系数\n",
    "    '''\n",
    "    feat=calcMFCC(signal,samplerate,win_length,win_step,cep_num,filters_num,NFFT,low_freq,high_freq,pre_emphasis_coeff,cep_lifter,appendEnergy)   #首先获取13个一般MFCC系数\n",
    "    result1=derivate(feat)\n",
    "    result2=derivate(result1)\n",
    "    result3=numpy.concatenate((feat,result1),axis=1)\n",
    "    result=numpy.concatenate((result3,result2),axis=1)\n",
    "    return result"
   ]
  },
  {
   "cell_type": "code",
   "execution_count": 10,
   "metadata": {
    "collapsed": true
   },
   "outputs": [],
   "source": [
    "def calcMFCC_delta(signal,samplerate=16000,win_length=0.025,win_step=0.01,cep_num=13,filters_num=26,NFFT=512,low_freq=0,high_freq=None,pre_emphasis_coeff=0.97,cep_lifter=22,appendEnergy=True):\n",
    "    '''计算13个MFCC+13个一阶微分系数\n",
    "    '''\n",
    "    feat=calcMFCC(signal,samplerate,win_length,win_step,cep_num,filters_num,NFFT,low_freq,high_freq,pre_emphasis_coeff,cep_lifter,appendEnergy)   #首先获取13个一般MFCC系数\n",
    "    result=derivate(feat) #调用derivate函数\n",
    "    result=numpy.concatenate((feat,result),axis=1)\n",
    "    return result   "
   ]
  },
  {
   "cell_type": "code",
   "execution_count": 12,
   "metadata": {
    "collapsed": true
   },
   "outputs": [],
   "source": [
    "def derivate(feat,big_theta=2,cep_num=13):\n",
    "    '''计算一阶系数或者加速系数的一般变换公式\n",
    "    参数说明:\n",
    "    feat:MFCC数组或者一阶系数数组\n",
    "    big_theta:公式中的大theta，默认取2\n",
    "    '''\n",
    "    result=numpy.zeros(feat.shape) #结果\n",
    "    denominator=0  #分母\n",
    "    for theta in numpy.linspace(1,big_theta,big_theta):\n",
    "        denominator=denominator+theta**2\n",
    "    denominator=denominator*2 #计算得到分母的值\n",
    "    for row in numpy.linspace(0,feat.shape[0]-1,feat.shape[0]):\n",
    "        tmp=numpy.zeros((cep_num,))\n",
    "        numerator=numpy.zeros((cep_num,)) #分子\n",
    "        for t in numpy.linspace(1,cep_num,cep_num):\n",
    "            a=0\n",
    "            b=0\n",
    "            s=0\n",
    "            for theta in numpy.linspace(1,big_theta,big_theta):\n",
    "                if int(t+theta) < cep_num:\n",
    "                    a=feat[int(row)][int(t+theta)-1]\n",
    "                else:\n",
    "                    a=0\n",
    "                if (t-theta)<1:\n",
    "                    b=0\n",
    "                else:\n",
    "                    b=feat[int(row)][int(t-theta)-1]\n",
    "                s+=theta*(a-b)\n",
    "            numerator[int(t-1)]=s\n",
    "        tmp=numerator*1.0/denominator\n",
    "        result[int(row)]=tmp\n",
    "    return result"
   ]
  },
  {
   "cell_type": "code",
   "execution_count": 13,
   "metadata": {
    "collapsed": true
   },
   "outputs": [],
   "source": [
    "def calcMFCC(signal,samplerate=16000,win_length=0.025,win_step=0.01,cep_num=13,filters_num=26,NFFT=512,low_freq=0,high_freq=None,pre_emphasis_coeff=0.97,cep_lifter=22,appendEnergy=True):\n",
    "    '''计算13个MFCC系数\n",
    "    参数含义：\n",
    "    signal:原始音频信号，一般为.wav格式文件\n",
    "    samplerate:抽样频率，这里默认为16KHz\n",
    "    win_length:窗长度，默认即一帧为25ms\n",
    "    win_step:窗间隔，默认情况下即相邻帧开始时刻之间相隔10ms\n",
    "    cep_num:倒谱系数的个数，默认为13\n",
    "    filters_num:滤波器的个数，默认为26\n",
    "    NFFT:傅立叶变换大小，默认为512\n",
    "    low_freq:最低频率，默认为0\n",
    "    high_freq:最高频率\n",
    "    pre_emphasis_coeff:预加重系数，默认为0.97\n",
    "    cep_lifter:倒谱的升个数？？\n",
    "    appendEnergy:是否加上能量，默认加\n",
    "    '''\n",
    "    \n",
    "    feat,energy=fbank(signal,samplerate,win_length,win_step,filters_num,NFFT,low_freq,high_freq,pre_emphasis_coeff)\n",
    "    feat=numpy.log(feat)\n",
    "    feat=dct(feat,type=2,axis=1,norm='ortho')[:,:cep_num]  #进行离散余弦变换,只取前13个系数\n",
    "    feat=lifter(feat,cep_lifter)\n",
    "    if appendEnergy:\n",
    "\t\tfeat[:,0]=numpy.log(energy)  #只取2-13个系数，第一个用能量的对数来代替\n",
    "    return feat"
   ]
  },
  {
   "cell_type": "code",
   "execution_count": 14,
   "metadata": {
    "collapsed": true
   },
   "outputs": [],
   "source": [
    "def fbank(signal,samplerate=16000,win_length=0.025,win_step=0.01,filters_num=26,NFFT=512,low_freq=0,high_freq=None,pre_emphasis_coeff=0.97):\n",
    "    '''计算音频信号的MFCC\n",
    "    参数说明：\n",
    "    samplerate:采样频率\n",
    "    win_length:窗长度\n",
    "    win_step:窗间隔\n",
    "    filters_num:梅尔滤波器个数\n",
    "    NFFT:FFT大小\n",
    "    low_freq:最低频率\n",
    "    high_freq:最高频率\n",
    "    pre_emphasis_coeff:预加重系数\n",
    "    '''\n",
    "    \n",
    "    high_freq=high_freq or samplerate/2  #计算音频样本的最大频率\n",
    "    signal=pre_emphasis(signal,pre_emphasis_coeff)  #对原始信号进行预加重处理\n",
    "    frames=audio2frame(signal,win_length*samplerate,win_step*samplerate) #得到帧数组\n",
    "    spec_power=spectrum_power(frames,NFFT)  #得到每一帧FFT以后的能量谱\n",
    "    energy=numpy.sum(spec_power,1)  #对每一帧的能量谱进行求和\n",
    "    energy=numpy.where(energy==0,numpy.finfo(float).eps,energy)  #对能量为0的地方调整为eps，这样便于进行对数处理\n",
    "    fb=get_filter_banks(filters_num,NFFT,samplerate,low_freq,high_freq)  #获得每一个滤波器的频率宽度\n",
    "    feat=numpy.dot(spec_power,fb.T)  #对滤波器和能量谱进行点乘\n",
    "    feat=numpy.where(feat==0,numpy.finfo(float).eps,feat)  #同样不能出现0\n",
    "    return feat,energy"
   ]
  },
  {
   "cell_type": "code",
   "execution_count": 15,
   "metadata": {
    "collapsed": true
   },
   "outputs": [],
   "source": [
    "def log_fbank(signal,samplerate=16000,win_length=0.025,win_step=0.01,filters_num=26,NFFT=512,low_freq=0,high_freq=None,pre_emphasis_coeff=0.97):\n",
    "    '''计算对数值\n",
    "    参数含义：同上\n",
    "    '''\n",
    "    feat,energy=fbank(signal,samplerate,win_length,win_step,filters_num,NFFT,low_freq,high_freq,pre_emphasis_coeff)\n",
    "    return numpy.log(feat)"
   ]
  },
  {
   "cell_type": "code",
   "execution_count": 16,
   "metadata": {
    "collapsed": true
   },
   "outputs": [],
   "source": [
    "def ssc(signal,samplerate=16000,win_length=0.025,win_step=0.01,filters_num=26,NFFT=512,low_freq=0,high_freq=None,pre_emphasis_coeff=0.97):\n",
    "    '''\n",
    "    待补充\n",
    "    ''' \n",
    "    high_freq=high_freq or samplerate/2\n",
    "    signal=sigprocess.pre_emphasis(signal,pre_emphasis_coeff)\n",
    "    frames=sigprocess.audio2frame(signal,win_length*samplerate,win_step*samplerate)\n",
    "    spec_power=sigprocess.spectrum_power(frames,NFFT) \n",
    "    spec_power=numpy.where(spec_power==0,numpy.finfo(float).eps,spec_power) #能量谱\n",
    "    fb=get_filter_banks(filters_num,NFFT,samplerate,low_freq,high_freq) \n",
    "    feat=numpy.dot(spec_power,fb.T)  #计算能量\n",
    "    R=numpy.tile(numpy.linspace(1,samplerate/2,numpy.size(spec_power,1)),(numpy.size(spec_power,0),1))\n",
    "    return numpy.dot(spec_power*R,fb.T)/feat"
   ]
  },
  {
   "cell_type": "code",
   "execution_count": 17,
   "metadata": {
    "collapsed": true
   },
   "outputs": [],
   "source": [
    "def hz2mel(hz):\n",
    "    '''把频率hz转化为梅尔频率\n",
    "    参数说明：\n",
    "    hz:频率\n",
    "    '''\n",
    "    return 2595*numpy.log10(1+hz/700.0)\n",
    "\n",
    "def mel2hz(mel):\n",
    "    '''把梅尔频率转化为hz\n",
    "    参数说明：\n",
    "    mel:梅尔频率\n",
    "    '''\n",
    "    return 700*(10**(mel/2595.0)-1)"
   ]
  },
  {
   "cell_type": "code",
   "execution_count": 18,
   "metadata": {
    "collapsed": true
   },
   "outputs": [],
   "source": [
    "def get_filter_banks(filters_num=20,NFFT=512,samplerate=16000,low_freq=0,high_freq=None):\n",
    "    '''计算梅尔三角间距滤波器，该滤波器在第一个频率和第三个频率处为0，在第二个频率处为1\n",
    "    参数说明：\n",
    "    filers_num:滤波器个数\n",
    "    NFFT:FFT大小\n",
    "    samplerate:采样频率\n",
    "    low_freq:最低频率\n",
    "    high_freq:最高频率\n",
    "    '''\n",
    "    #首先，将频率hz转化为梅尔频率，因为人耳分辨声音的大小与频率并非线性正比，所以化为梅尔频率再线性分隔\n",
    "    low_mel=hz2mel(low_freq)\n",
    "    high_mel=hz2mel(high_freq)\n",
    "    #需要在low_mel和high_mel之间等间距插入filters_num个点，一共filters_num+2个点\n",
    "    mel_points=numpy.linspace(low_mel,high_mel,filters_num+2)\n",
    "    #再将梅尔频率转化为hz频率，并且找到对应的hz位置\n",
    "    hz_points=mel2hz(mel_points)\n",
    "    #我们现在需要知道这些hz_points对应到fft中的位置\n",
    "    bin=numpy.floor((NFFT+1)*hz_points/samplerate)\n",
    "    #接下来建立滤波器的表达式了，每个滤波器在第一个点处和第三个点处均为0，中间为三角形形状\n",
    "    fbank=numpy.zeros([filters_num,NFFT/2+1])\n",
    "    for j in xrange(0,filters_num):\n",
    "\tfor i in xrange(int(bin[j]),int(bin[j+1])):\n",
    "\t    fbank[j,i]=(i-bin[j])/(bin[j+1]-bin[j])\n",
    "\tfor i in xrange(int(bin[j+1]),int(bin[j+2])):\n",
    "\t    fbank[j,i]=(bin[j+2]-i)/(bin[j+2]-bin[j+1])\n",
    "    return fbank"
   ]
  },
  {
   "cell_type": "code",
   "execution_count": 19,
   "metadata": {
    "collapsed": true
   },
   "outputs": [],
   "source": [
    "def lifter(cepstra,L=22):\n",
    "    '''升倒谱函数\n",
    "    参数说明：\n",
    "    cepstra:MFCC系数\n",
    "    L：升系数，默认为22\n",
    "    '''\n",
    "    if L>0:\n",
    "\tnframes,ncoeff=numpy.shape(cepstra)\n",
    "\tn=numpy.arange(ncoeff)\n",
    "\tlift=1+(L/2)*numpy.sin(numpy.pi*n/L)\n",
    "\treturn lift*cepstra\n",
    "    else:\n",
    "\treturn cepstra"
   ]
  },
  {
   "cell_type": "code",
   "execution_count": 23,
   "metadata": {
    "collapsed": false
   },
   "outputs": [
    {
     "data": {
      "text/plain": [
       "[<matplotlib.lines.Line2D at 0x107cca490>]"
      ]
     },
     "execution_count": 23,
     "metadata": {},
     "output_type": "execute_result"
    },
    {
     "data": {
      "image/png": "[encoded data removed]",
      "text/plain": [
       "<matplotlib.figure.Figure at 0x13bcbe1d0>"
      ]
     },
     "metadata": {},
     "output_type": "display_data"
    }
   ],
   "source": [
    "plt.plot(sample1_L)"
   ]
  },
  {
   "cell_type": "code",
   "execution_count": 26,
   "metadata": {
    "collapsed": false
   },
   "outputs": [
    {
     "data": {
      "text/plain": [
       "[<matplotlib.lines.Line2D at 0x13bcbe6d0>]"
      ]
     },
     "execution_count": 26,
     "metadata": {},
     "output_type": "execute_result"
    },
    {
     "data": {
      "image/png": "[encoded data removed]",
      "text/plain": [
       "<matplotlib.figure.Figure at 0x11b696290>"
      ]
     },
     "metadata": {},
     "output_type": "display_data"
    }
   ],
   "source": [
    "plt.plot(sample2_L)"
   ]
  },
  {
   "cell_type": "code",
   "execution_count": 64,
   "metadata": {
    "collapsed": false
   },
   "outputs": [
    {
     "data": {
      "text/plain": [
       "[<matplotlib.lines.Line2D at 0x11c45af50>]"
      ]
     },
     "execution_count": 64,
     "metadata": {},
     "output_type": "execute_result"
    },
    {
     "data": {
      "image/png": "[encoded data removed]",
      "text/plain": [
       "<matplotlib.figure.Figure at 0x11c1720d0>"
      ]
     },
     "metadata": {},
     "output_type": "display_data"
    }
   ],
   "source": [
    "plt.plot(sample1_L[200000:240000])"
   ]
  },
  {
   "cell_type": "code",
   "execution_count": 65,
   "metadata": {
    "collapsed": false
   },
   "outputs": [
    {
     "data": {
      "text/plain": [
       "[<matplotlib.lines.Line2D at 0x11cb284d0>]"
      ]
     },
     "execution_count": 65,
     "metadata": {},
     "output_type": "execute_result"
    },
    {
     "data": {
      "image/png": "[encoded data removed]",
      "text/plain": [
       "<matplotlib.figure.Figure at 0x11cb1cc50>"
      ]
     },
     "metadata": {},
     "output_type": "display_data"
    }
   ],
   "source": [
    "plt.plot(sample2_L[200000:240000])"
   ]
  },
  {
   "cell_type": "code",
   "execution_count": 66,
   "metadata": {
    "collapsed": true
   },
   "outputs": [],
   "source": [
    "#  对部分原始信号进行预加重处理\n",
    "pre_emphasised_song1 = pre_emphasis(sample1_L[200000:240000],0.97)\n",
    "pre_emphasised_song2 = pre_emphasis(sample2_L[200000:240000],0.97)"
   ]
  },
  {
   "cell_type": "code",
   "execution_count": 67,
   "metadata": {
    "collapsed": false
   },
   "outputs": [
    {
     "data": {
      "text/plain": [
       "[<matplotlib.lines.Line2D at 0x11cb28550>]"
      ]
     },
     "execution_count": 67,
     "metadata": {},
     "output_type": "execute_result"
    },
    {
     "data": {
      "image/png": "[encoded data removed]",
      "text/plain": [
       "<matplotlib.figure.Figure at 0x11cce4090>"
      ]
     },
     "metadata": {},
     "output_type": "display_data"
    }
   ],
   "source": [
    "plt.plot(pre_emphasised_song1)"
   ]
  },
  {
   "cell_type": "code",
   "execution_count": 68,
   "metadata": {
    "collapsed": false
   },
   "outputs": [
    {
     "data": {
      "text/plain": [
       "[<matplotlib.lines.Line2D at 0x11f0cd990>]"
      ]
     },
     "execution_count": 68,
     "metadata": {},
     "output_type": "execute_result"
    },
    {
     "data": {
      "image/png": "[encoded data removed]",
      "text/plain": [
       "<matplotlib.figure.Figure at 0x11e8a12d0>"
      ]
     },
     "metadata": {},
     "output_type": "display_data"
    }
   ],
   "source": [
    "plt.plot(pre_emphasised_song2)"
   ]
  },
  {
   "cell_type": "code",
   "execution_count": 72,
   "metadata": {
    "collapsed": false
   },
   "outputs": [
    {
     "name": "stdout",
     "output_type": "stream",
     "text": [
      "('signal_length : ', 40000)\n",
      "('frame_length : ', 1103)\n",
      "('frame_step : ', 44)\n",
      "('frames_num : ', 886)\n",
      "('pad_length : ', 40043)\n",
      "('zeros shape : ', (43,), 'singal shape : ', 40000)\n",
      "('pad_signal shape : ', (40043,))\n",
      "===============================\n",
      "('signal_length : ', 40000)\n",
      "('frame_length : ', 1103)\n",
      "('frame_step : ', 44)\n",
      "('frames_num : ', 886)\n",
      "('pad_length : ', 40043)\n",
      "('zeros shape : ', (43,), 'singal shape : ', 40000)\n",
      "('pad_signal shape : ', (40043,))\n"
     ]
    }
   ],
   "source": [
    "#   时间窗长度 25ms，时间窗间隔 1ms\n",
    "segmented_song1 = audio2frame(pre_emphasised_song1,song1.frame_rate*0.025,song1.frame_rate*0.001)\n",
    "print('===============================')\n",
    "segmented_song2 = audio2frame(pre_emphasised_song2,song1.frame_rate*0.025,song1.frame_rate*0.001)"
   ]
  },
  {
   "cell_type": "code",
   "execution_count": 73,
   "metadata": {
    "collapsed": false
   },
   "outputs": [
    {
     "name": "stdout",
     "output_type": "stream",
     "text": [
      "((886, 1103), (886, 1103))\n"
     ]
    }
   ],
   "source": [
    "print(segmented_song1.shape,segmented_song2.shape)"
   ]
  },
  {
   "cell_type": "code",
   "execution_count": 77,
   "metadata": {
    "collapsed": false
   },
   "outputs": [
    {
     "data": {
      "text/plain": [
       "[<matplotlib.lines.Line2D at 0x123e70d90>]"
      ]
     },
     "execution_count": 77,
     "metadata": {},
     "output_type": "execute_result"
    },
    {
     "data": {
      "image/png": "[encoded data removed]",
      "text/plain": [
       "<matplotlib.figure.Figure at 0x12701f2d0>"
      ]
     },
     "metadata": {},
     "output_type": "display_data"
    }
   ],
   "source": [
    "plt.plot(segmented_song1[0])"
   ]
  },
  {
   "cell_type": "code",
   "execution_count": 78,
   "metadata": {
    "collapsed": false
   },
   "outputs": [
    {
     "data": {
      "text/plain": [
       "[<matplotlib.lines.Line2D at 0x1270974d0>]"
      ]
     },
     "execution_count": 78,
     "metadata": {},
     "output_type": "execute_result"
    },
    {
     "data": {
      "image/png": "[encoded data removed]",
      "text/plain": [
       "<matplotlib.figure.Figure at 0x127087810>"
      ]
     },
     "metadata": {},
     "output_type": "display_data"
    }
   ],
   "source": [
    "plt.plot(segmented_song2[0])"
   ]
  },
  {
   "cell_type": "code",
   "execution_count": 79,
   "metadata": {
    "collapsed": false
   },
   "outputs": [
    {
     "name": "stdout",
     "output_type": "stream",
     "text": [
      "((886, 257), (886, 257))\n"
     ]
    }
   ],
   "source": [
    "#  512 为傅立叶变换大小\n",
    "#  计算每一帧傅立叶变换以后的功率谱\n",
    "spec_power_song1 = spectrum_power(segmented_song1,512)\n",
    "spec_power_song2 = spectrum_power(segmented_song2,512)\n",
    "print(spec_power_song1.shape,spec_power_song2.shape)"
   ]
  },
  {
   "cell_type": "code",
   "execution_count": 80,
   "metadata": {
    "collapsed": false
   },
   "outputs": [
    {
     "data": {
      "text/plain": [
       "[<matplotlib.lines.Line2D at 0x1271d0110>]"
      ]
     },
     "execution_count": 80,
     "metadata": {},
     "output_type": "execute_result"
    },
    {
     "data": {
      "image/png": "[encoded data removed]",
      "text/plain": [
       "<matplotlib.figure.Figure at 0x124055b10>"
      ]
     },
     "metadata": {},
     "output_type": "display_data"
    }
   ],
   "source": [
    "plt.plot(spec_power_song1[0])"
   ]
  },
  {
   "cell_type": "code",
   "execution_count": 81,
   "metadata": {
    "collapsed": false
   },
   "outputs": [
    {
     "data": {
      "text/plain": [
       "[<matplotlib.lines.Line2D at 0x124210f10>]"
      ]
     },
     "execution_count": 81,
     "metadata": {},
     "output_type": "execute_result"
    },
    {
     "data": {
      "image/png": "[encoded data removed]",
      "text/plain": [
       "<matplotlib.figure.Figure at 0x1271baf90>"
      ]
     },
     "metadata": {},
     "output_type": "display_data"
    }
   ],
   "source": [
    "plt.plot(spec_power_song2[0])"
   ]
  },
  {
   "cell_type": "code",
   "execution_count": 84,
   "metadata": {
    "collapsed": false
   },
   "outputs": [
    {
     "name": "stdout",
     "output_type": "stream",
     "text": [
      "((886,), (886,))\n",
      "[ 99368201.44011664  98179769.12623224  97496210.69540353\n",
      "  96274902.69579102  93822223.00675096  95090376.34535721\n",
      "  91607540.00050159  91419632.59517851  88968675.81108943\n",
      "  86729573.05556583]\n",
      "[  9430859.06523126  10641870.2709424   10008631.83294552\n",
      "   8240994.66431739   8251782.50828517   8147562.17617071\n",
      "   9000116.63703009   9032305.86599786   7472897.33750411\n",
      "   7493439.67142442]\n"
     ]
    }
   ],
   "source": [
    "#对每一帧的能量谱进行求和\n",
    "energy_song1 = numpy.sum(spec_power_song1,1)\n",
    "energy_song2 = numpy.sum(spec_power_song2,1)\n",
    "\n",
    "#对能量为0的地方调整为eps，这样便于进行对数处理\n",
    "energy_song1 = numpy.where(energy_song1==0,numpy.finfo(float).eps,energy_song1)\n",
    "energy_song2 = numpy.where(energy_song2==0,numpy.finfo(float).eps,energy_song2)\n",
    "print(energy_song1.shape,energy_song2.shape)\n",
    "print(energy_song1[:10])\n",
    "print(energy_song2[:10])"
   ]
  },
  {
   "cell_type": "code",
   "execution_count": 96,
   "metadata": {
    "collapsed": false
   },
   "outputs": [
    {
     "name": "stdout",
     "output_type": "stream",
     "text": [
      "((26, 257), (26, 257))\n"
     ]
    }
   ],
   "source": [
    "# 获得每一个滤波器的频率宽度\n",
    "fb_song1 = get_filter_banks(26,512,song1.frame_rate,0,song1.frame_rate/2)\n",
    "fb_song2 = get_filter_banks(26,512,song2.frame_rate,0,song2.frame_rate/2)\n",
    "print(fb_song1.shape,fb_song2.shape)"
   ]
  },
  {
   "cell_type": "code",
   "execution_count": 97,
   "metadata": {
    "collapsed": false
   },
   "outputs": [
    {
     "data": {
      "image/png": "[encoded data removed]",
      "text/plain": [
       "<matplotlib.figure.Figure at 0x128670050>"
      ]
     },
     "metadata": {},
     "output_type": "display_data"
    }
   ],
   "source": [
    "f = plt.plot(numpy.arange(257),fb_song1[0],numpy.arange(257),fb_song1[5],\n",
    "         numpy.arange(257),fb_song1[10],numpy.arange(257),fb_song1[12],\n",
    "         numpy.arange(257),fb_song1[15],numpy.arange(257),fb_song1[18],\n",
    "        numpy.arange(257),fb_song1[20],numpy.arange(257),fb_song1[21],\n",
    "        numpy.arange(257),fb_song1[22],numpy.arange(257),fb_song1[23],\n",
    "        numpy.arange(257),fb_song1[24],numpy.arange(257),fb_song1[25])"
   ]
  },
  {
   "cell_type": "code",
   "execution_count": 98,
   "metadata": {
    "collapsed": false
   },
   "outputs": [
    {
     "data": {
      "image/png": "[encoded data removed]",
      "text/plain": [
       "<matplotlib.figure.Figure at 0x12bc7d7d0>"
      ]
     },
     "metadata": {},
     "output_type": "display_data"
    }
   ],
   "source": [
    "f = plt.plot(numpy.arange(257),fb_song2[0],numpy.arange(257),fb_song2[5],\n",
    "         numpy.arange(257),fb_song2[10],numpy.arange(257),fb_song2[12],\n",
    "         numpy.arange(257),fb_song2[15],numpy.arange(257),fb_song2[18],\n",
    "        numpy.arange(257),fb_song2[20],numpy.arange(257),fb_song2[21],\n",
    "        numpy.arange(257),fb_song2[22],numpy.arange(257),fb_song2[23],\n",
    "        numpy.arange(257),fb_song2[24],numpy.arange(257),fb_song2[25])"
   ]
  },
  {
   "cell_type": "code",
   "execution_count": 99,
   "metadata": {
    "collapsed": false
   },
   "outputs": [
    {
     "name": "stdout",
     "output_type": "stream",
     "text": [
      "((886, 26), (886, 26))\n"
     ]
    }
   ],
   "source": [
    "# 对滤波器和能量谱进行点乘\n",
    "feat_song1 = numpy.dot(spec_power_song1,fb_song1.T)\n",
    "feat_song2 = numpy.dot(spec_power_song2,fb_song2.T)\n",
    "feat_song1=numpy.where(feat_song1==0,numpy.finfo(float).eps,feat_song1)\n",
    "feat_song2=numpy.where(feat_song2==0,numpy.finfo(float).eps,feat_song2)\n",
    "print(feat_song1.shape,feat_song2.shape)"
   ]
  },
  {
   "cell_type": "code",
   "execution_count": 101,
   "metadata": {
    "collapsed": false
   },
   "outputs": [
    {
     "data": {
      "text/plain": [
       "[<matplotlib.lines.Line2D at 0x12c5121d0>]"
      ]
     },
     "execution_count": 101,
     "metadata": {},
     "output_type": "execute_result"
    },
    {
     "data": {
      "image/png": "[encoded data removed]",
      "text/plain": [
       "<matplotlib.figure.Figure at 0x12c4ff650>"
      ]
     },
     "metadata": {},
     "output_type": "display_data"
    }
   ],
   "source": [
    "plt.plot(feat_song1[0])"
   ]
  },
  {
   "cell_type": "code",
   "execution_count": 102,
   "metadata": {
    "collapsed": false
   },
   "outputs": [
    {
     "data": {
      "text/plain": [
       "[<matplotlib.lines.Line2D at 0x12c71aed0>]"
      ]
     },
     "execution_count": 102,
     "metadata": {},
     "output_type": "execute_result"
    },
    {
     "data": {
      "image/png": "[encoded data removed]",
      "text/plain": [
       "<matplotlib.figure.Figure at 0x12c7121d0>"
      ]
     },
     "metadata": {},
     "output_type": "display_data"
    }
   ],
   "source": [
    "plt.plot(feat_song2[0])"
   ]
  },
  {
   "cell_type": "code",
   "execution_count": 103,
   "metadata": {
    "collapsed": true
   },
   "outputs": [],
   "source": [
    "log_feat_song1 = numpy.log(feat_song1)\n",
    "log_feat_song2 = numpy.log(feat_song2)"
   ]
  },
  {
   "cell_type": "code",
   "execution_count": 104,
   "metadata": {
    "collapsed": false
   },
   "outputs": [
    {
     "data": {
      "text/plain": [
       "[<matplotlib.lines.Line2D at 0x12c7ca390>]"
      ]
     },
     "execution_count": 104,
     "metadata": {},
     "output_type": "execute_result"
    },
    {
     "data": {
      "image/png": "[encoded data removed]",
      "text/plain": [
       "<matplotlib.figure.Figure at 0x12c7ca790>"
      ]
     },
     "metadata": {},
     "output_type": "display_data"
    }
   ],
   "source": [
    "plt.plot(log_feat_song1[0])"
   ]
  },
  {
   "cell_type": "code",
   "execution_count": 105,
   "metadata": {
    "collapsed": false
   },
   "outputs": [
    {
     "data": {
      "text/plain": [
       "[<matplotlib.lines.Line2D at 0x12d012250>]"
      ]
     },
     "execution_count": 105,
     "metadata": {},
     "output_type": "execute_result"
    },
    {
     "data": {
      "image/png": "[encoded data removed]",
      "text/plain": [
       "<matplotlib.figure.Figure at 0x12d0014d0>"
      ]
     },
     "metadata": {},
     "output_type": "display_data"
    }
   ],
   "source": [
    "plt.plot(log_feat_song2[0])"
   ]
  },
  {
   "cell_type": "code",
   "execution_count": 106,
   "metadata": {
    "collapsed": false
   },
   "outputs": [
    {
     "name": "stdout",
     "output_type": "stream",
     "text": [
      "((886, 13), (886, 13))\n"
     ]
    }
   ],
   "source": [
    "#进行离散余弦变换,只取前13个系数\n",
    "dct_feat_song1 = dct(log_feat_song1,type=2,axis=1,norm='ortho')[:,:13]\n",
    "dct_feat_song2 = dct(log_feat_song2,type=2,axis=1,norm='ortho')[:,:13]\n",
    "print(dct_feat_song1.shape,dct_feat_song2.shape)"
   ]
  },
  {
   "cell_type": "code",
   "execution_count": 107,
   "metadata": {
    "collapsed": false
   },
   "outputs": [
    {
     "data": {
      "text/plain": [
       "[<matplotlib.lines.Line2D at 0x12d048e10>]"
      ]
     },
     "execution_count": 107,
     "metadata": {},
     "output_type": "execute_result"
    },
    {
     "data": {
      "image/png": "[encoded data removed]",
      "text/plain": [
       "<matplotlib.figure.Figure at 0x12d0bc6d0>"
      ]
     },
     "metadata": {},
     "output_type": "display_data"
    }
   ],
   "source": [
    "plt.plot(dct_feat_song1[0])"
   ]
  },
  {
   "cell_type": "code",
   "execution_count": 108,
   "metadata": {
    "collapsed": false
   },
   "outputs": [
    {
     "data": {
      "text/plain": [
       "[<matplotlib.lines.Line2D at 0x12d607510>]"
      ]
     },
     "execution_count": 108,
     "metadata": {},
     "output_type": "execute_result"
    },
    {
     "data": {
      "image/png": "[encoded data removed]",
      "text/plain": [
       "<matplotlib.figure.Figure at 0x12d5fd490>"
      ]
     },
     "metadata": {},
     "output_type": "display_data"
    }
   ],
   "source": [
    "plt.plot(dct_feat_song2[0])"
   ]
  },
  {
   "cell_type": "code",
   "execution_count": 111,
   "metadata": {
    "collapsed": false
   },
   "outputs": [
    {
     "name": "stdout",
     "output_type": "stream",
     "text": [
      "((886, 13), (886, 13))\n"
     ]
    }
   ],
   "source": [
    "lifted_feat_song1=lifter(dct_feat_song1,22)\n",
    "lifted_feat_song2=lifter(dct_feat_song2,22)\n",
    "print(lifted_feat_song1.shape,lifted_feat_song2.shape)"
   ]
  },
  {
   "cell_type": "code",
   "execution_count": 112,
   "metadata": {
    "collapsed": false
   },
   "outputs": [
    {
     "data": {
      "text/plain": [
       "[<matplotlib.lines.Line2D at 0x12d6ae350>]"
      ]
     },
     "execution_count": 112,
     "metadata": {},
     "output_type": "execute_result"
    },
    {
     "data": {
      "image/png": "[encoded data removed]",
      "text/plain": [
       "<matplotlib.figure.Figure at 0x12d5fdc50>"
      ]
     },
     "metadata": {},
     "output_type": "display_data"
    }
   ],
   "source": [
    "plt.plot(lifted_feat_song1[0])"
   ]
  },
  {
   "cell_type": "code",
   "execution_count": 113,
   "metadata": {
    "collapsed": false
   },
   "outputs": [
    {
     "data": {
      "text/plain": [
       "[<matplotlib.lines.Line2D at 0x12e6bd0d0>]"
      ]
     },
     "execution_count": 113,
     "metadata": {},
     "output_type": "execute_result"
    },
    {
     "data": {
      "image/png": "[encoded data removed]",
      "text/plain": [
       "<matplotlib.figure.Figure at 0x12e69f150>"
      ]
     },
     "metadata": {},
     "output_type": "display_data"
    }
   ],
   "source": [
    "plt.plot(lifted_feat_song2[0])"
   ]
  },
  {
   "cell_type": "code",
   "execution_count": 117,
   "metadata": {
    "collapsed": false
   },
   "outputs": [
    {
     "name": "stdout",
     "output_type": "stream",
     "text": [
      "((886, 13), (886, 13))\n"
     ]
    }
   ],
   "source": [
    "result1_song1 = derivate(lifted_feat_song1)\n",
    "result1_song2 = derivate(lifted_feat_song2)\n",
    "print(result1_song1.shape,result1_song2.shape)"
   ]
  },
  {
   "cell_type": "code",
   "execution_count": 126,
   "metadata": {
    "collapsed": false
   },
   "outputs": [
    {
     "data": {
      "text/plain": [
       "[<matplotlib.lines.Line2D at 0x1211aa990>]"
      ]
     },
     "execution_count": 126,
     "metadata": {},
     "output_type": "execute_result"
    },
    {
     "data": {
      "image/png": "[encoded data removed]",
      "text/plain": [
       "<matplotlib.figure.Figure at 0x1211a0ad0>"
      ]
     },
     "metadata": {},
     "output_type": "display_data"
    }
   ],
   "source": [
    "plt.plot(result1_song1[400])"
   ]
  },
  {
   "cell_type": "code",
   "execution_count": 127,
   "metadata": {
    "collapsed": false
   },
   "outputs": [
    {
     "data": {
      "text/plain": [
       "[<matplotlib.lines.Line2D at 0x1212c5210>]"
      ]
     },
     "execution_count": 127,
     "metadata": {},
     "output_type": "execute_result"
    },
    {
     "data": {
      "image/png": "[encoded data removed]",
      "text/plain": [
       "<matplotlib.figure.Figure at 0x1212b1b50>"
      ]
     },
     "metadata": {},
     "output_type": "display_data"
    }
   ],
   "source": [
    "plt.plot(result1_song2[400])"
   ]
  },
  {
   "cell_type": "code",
   "execution_count": 122,
   "metadata": {
    "collapsed": false
   },
   "outputs": [
    {
     "name": "stdout",
     "output_type": "stream",
     "text": [
      "((886, 13), (886, 13))\n"
     ]
    }
   ],
   "source": [
    "result2_song1 = derivate(result1_song1)\n",
    "result2_song2 = derivate(result1_song2)\n",
    "print(result2_song1.shape,result2_song2.shape)"
   ]
  },
  {
   "cell_type": "code",
   "execution_count": 123,
   "metadata": {
    "collapsed": false
   },
   "outputs": [
    {
     "data": {
      "text/plain": [
       "[<matplotlib.lines.Line2D at 0x120e55b50>]"
      ]
     },
     "execution_count": 123,
     "metadata": {},
     "output_type": "execute_result"
    },
    {
     "data": {
      "image/png": "[encoded data removed]",
      "text/plain": [
       "<matplotlib.figure.Figure at 0x120e67350>"
      ]
     },
     "metadata": {},
     "output_type": "display_data"
    }
   ],
   "source": [
    "plt.plot(result2_song1[0])"
   ]
  },
  {
   "cell_type": "code",
   "execution_count": 124,
   "metadata": {
    "collapsed": false
   },
   "outputs": [
    {
     "data": {
      "text/plain": [
       "[<matplotlib.lines.Line2D at 0x120f7b910>]"
      ]
     },
     "execution_count": 124,
     "metadata": {},
     "output_type": "execute_result"
    },
    {
     "data": {
      "image/png": "[encoded data removed]",
      "text/plain": [
       "<matplotlib.figure.Figure at 0x120f71410>"
      ]
     },
     "metadata": {},
     "output_type": "display_data"
    }
   ],
   "source": [
    "plt.plot(result2_song2[0])"
   ]
  },
  {
   "cell_type": "code",
   "execution_count": 20,
   "metadata": {
    "collapsed": true
   },
   "outputs": [],
   "source": [
    "song1 = AudioSegment.from_mp3('/Users/heguangqin/Music/xiangmu/Grenade.mp3')\n",
    "song2 = AudioSegment.from_mp3('/Users/heguangqin/Music/xiangmu/If I Die Young.mp3')\n",
    "song3 = AudioSegment.from_mp3('/Users/heguangqin/Music/xiangmu/It Girl.mp3')\n",
    "song4 = AudioSegment.from_mp3('/Users/heguangqin/Music/xiangmu/为你我受冷风吹.mp3')"
   ]
  },
  {
   "cell_type": "code",
   "execution_count": 21,
   "metadata": {
    "collapsed": false
   },
   "outputs": [
    {
     "name": "stdout",
     "output_type": "stream",
     "text": [
      "500000\n",
      "600000\n",
      "550000\n",
      "600000\n"
     ]
    }
   ],
   "source": [
    "smaples1 = song1.get_array_of_samples()\n",
    "smaples2 = song2.get_array_of_samples()\n",
    "smaples3 = song3.get_array_of_samples()\n",
    "smaples4 = song4.get_array_of_samples()\n",
    "\n",
    "sample1_L = np.asarray([smaples1[i] for i in range(len(smaples1)-2000000,len(smaples1)-1000000,2)])\n",
    "print(len(sample1_L))\n",
    "sample2_L = np.asarray([smaples2[i] for i in range(len(smaples2)-2200000,len(smaples2)-1000000,2)])\n",
    "print(len(sample2_L))\n",
    "sample3_L = np.asarray([smaples3[i] for i in range(len(smaples3)-2400000,len(smaples3)-1300000,2)])\n",
    "print(len(sample3_L))\n",
    "sample4_L = np.asarray([smaples4[i] for i in range(len(smaples4)-2200000,len(smaples4)-1000000,2)])\n",
    "print(len(sample4_L))\n",
    "\n",
    "del smaples1,smaples2,smaples3,smaples4"
   ]
  },
  {
   "cell_type": "code",
   "execution_count": 22,
   "metadata": {
    "collapsed": false
   },
   "outputs": [
    {
     "name": "stdout",
     "output_type": "stream",
     "text": [
      "('signal_length : ', 500000)\n",
      "('frame_length : ', 1103)\n",
      "('frame_step : ', 441)\n",
      "('frames_num : ', 1133)\n",
      "('pad_length : ', 500315)\n",
      "('zeros shape : ', (315,), 'singal shape : ', 500000)\n",
      "('pad_signal shape : ', (500315,))\n",
      "(1133, 39)\n",
      "[[  1.80847214e+01   6.01947007e+00  -2.69504977e-01   5.49047299e+00\n",
      "   -1.02091019e+01   4.10025319e+00  -1.74264513e+01  -2.70787190e+01\n",
      "   -8.25653848e+00  -5.97014151e+00  -1.35582806e+01  -1.04544792e+01\n",
      "   -1.12340587e+01   5.48046012e-01  -7.37328039e-01  -5.71166437e+00\n",
      "   -1.37780307e+00  -3.57041124e+00  -7.23557333e+00  -2.72738453e+00\n",
      "   -1.09708766e+00   2.88449189e+00   2.79467375e+00   1.20287393e+00\n",
      "    2.54985636e+00   3.75710404e+00  -1.21606568e+00  -9.01531653e-01\n",
      "   -8.87738954e-01  -1.08552375e+00   1.10789430e-02   1.40445754e-01\n",
      "    1.90482919e+00   2.56723706e+00   1.17522783e+00   5.61227008e-01\n",
      "   -6.01380116e-01  -6.79222142e-01  -4.95560421e-01]\n",
      " [  1.80511356e+01   1.08466080e+01  -8.63925693e+00   1.04212888e+01\n",
      "   -2.32868166e+01   5.81686075e+00  -2.44791427e+01  -2.47679274e+01\n",
      "   -1.56805894e+01  -1.34987629e+00  -1.87830777e+01  -7.57244340e+00\n",
      "   -8.35284416e+00  -6.43190585e-01  -5.84781499e-01  -8.31012237e+00\n",
      "   -2.47070542e+00  -3.62841995e+00  -7.15707584e+00  -1.53723337e+00\n",
      "   -5.53492080e-01   3.48101810e+00   3.12884797e+00   2.51386117e+00\n",
      "    2.14828303e+00   4.51385989e+00  -1.72050262e+00  -1.26083426e+00\n",
      "   -7.85638265e-01  -8.46288627e-01   8.85940757e-01   5.92561326e-01\n",
      "    2.08224599e+00   2.55900991e+00   1.17845291e+00   4.43639329e-01\n",
      "   -7.94260114e-01  -8.77155711e-01  -7.17600536e-01]]\n"
     ]
    }
   ],
   "source": [
    "mfcc_feat_for_song1 = calcMFCC_delta_delta(sample1_L, song1.frame_rate)\n",
    "print(mfcc_feat_for_song1.shape)\n",
    "print(mfcc_feat_for_song1[:2,:])"
   ]
  },
  {
   "cell_type": "code",
   "execution_count": 23,
   "metadata": {
    "collapsed": false
   },
   "outputs": [
    {
     "name": "stdout",
     "output_type": "stream",
     "text": [
      "('signal_length : ', 600000)\n",
      "('frame_length : ', 1103)\n",
      "('frame_step : ', 441)\n",
      "('frames_num : ', 1360)\n",
      "('pad_length : ', 600422)\n",
      "('zeros shape : ', (422,), 'singal shape : ', 600000)\n",
      "('pad_signal shape : ', (600422,))\n",
      "(1360, 39)\n"
     ]
    }
   ],
   "source": [
    "mfcc_feat_for_song2 = calcMFCC_delta_delta(sample2_L, song2.frame_rate)\n",
    "print(mfcc_feat_for_song2.shape)"
   ]
  },
  {
   "cell_type": "code",
   "execution_count": 24,
   "metadata": {
    "collapsed": false
   },
   "outputs": [
    {
     "name": "stdout",
     "output_type": "stream",
     "text": [
      "('signal_length : ', 550000)\n",
      "('frame_length : ', 1103)\n",
      "('frame_step : ', 441)\n",
      "('frames_num : ', 1246)\n",
      "('pad_length : ', 550148)\n",
      "('zeros shape : ', (148,), 'singal shape : ', 550000)\n",
      "('pad_signal shape : ', (550148,))\n",
      "(1246, 39)\n"
     ]
    }
   ],
   "source": [
    "mfcc_feat_for_song3 = calcMFCC_delta_delta(sample3_L, song3.frame_rate)\n",
    "print(mfcc_feat_for_song3.shape)"
   ]
  },
  {
   "cell_type": "code",
   "execution_count": 25,
   "metadata": {
    "collapsed": false
   },
   "outputs": [
    {
     "name": "stdout",
     "output_type": "stream",
     "text": [
      "('signal_length : ', 600000)\n",
      "('frame_length : ', 1103)\n",
      "('frame_step : ', 441)\n",
      "('frames_num : ', 1360)\n",
      "('pad_length : ', 600422)\n",
      "('zeros shape : ', (422,), 'singal shape : ', 600000)\n",
      "('pad_signal shape : ', (600422,))\n",
      "(1360, 39)\n"
     ]
    }
   ],
   "source": [
    "mfcc_feat_for_song4 = calcMFCC_delta_delta(sample4_L, song4.frame_rate)\n",
    "print(mfcc_feat_for_song4.shape)"
   ]
  },
  {
   "cell_type": "code",
   "execution_count": 26,
   "metadata": {
    "collapsed": false
   },
   "outputs": [
    {
     "name": "stdout",
     "output_type": "stream",
     "text": [
      "(200000,)\n",
      "('signal_length : ', 200000)\n",
      "('frame_length : ', 1103)\n",
      "('frame_step : ', 441)\n",
      "('frames_num : ', 453)\n",
      "('pad_length : ', 200435)\n",
      "('zeros shape : ', (435,), 'singal shape : ', 200000)\n",
      "('pad_signal shape : ', (200435,))\n",
      "(453, 39)\n"
     ]
    }
   ],
   "source": [
    "sample_L_for_test = np.asarray([sample2_L[i] for i in range(len(sample2_L)-400000,len(sample2_L)-200000)])\n",
    "print(sample_L_for_test.shape)\n",
    "mfcc_feat_for_test = calcMFCC_delta_delta(sample_L_for_test, song2.frame_rate)\n",
    "print(mfcc_feat_for_test.shape)"
   ]
  },
  {
   "cell_type": "code",
   "execution_count": 28,
   "metadata": {
    "collapsed": false
   },
   "outputs": [
    {
     "name": "stdout",
     "output_type": "stream",
     "text": [
      "((1133, 453), (1360, 453), (1246, 453), (1360, 453))\n"
     ]
    }
   ],
   "source": [
    "# 计算待匹配音乐与第一首音乐的余弦相似度\n",
    "sim1 = np.dot(mfcc_feat_for_song1,mfcc_feat_for_test.T)/np.outer(np.sqrt(np.sum(mfcc_feat_for_song1**2,axis=1)),\n",
    "                                                      np.sqrt(np.sum(mfcc_feat_for_test**2,axis=1)))\n",
    "\n",
    "sim2 = np.dot(mfcc_feat_for_song2,mfcc_feat_for_test.T)/np.outer(np.sqrt(np.sum(mfcc_feat_for_song2**2,axis=1)),\n",
    "                                                      np.sqrt(np.sum(mfcc_feat_for_test**2,axis=1)))\n",
    "\n",
    "sim3 = np.dot(mfcc_feat_for_song3,mfcc_feat_for_test.T)/np.outer(np.sqrt(np.sum(mfcc_feat_for_song3**2,axis=1)),\n",
    "                                                      np.sqrt(np.sum(mfcc_feat_for_test**2,axis=1)))\n",
    "\n",
    "sim4 = np.dot(mfcc_feat_for_song4,mfcc_feat_for_test.T)/np.outer(np.sqrt(np.sum(mfcc_feat_for_song4**2,axis=1)),\n",
    "                                                      np.sqrt(np.sum(mfcc_feat_for_test**2,axis=1)))\n",
    "print(sim1.shape,sim2.shape,sim3.shape,sim4.shape)"
   ]
  },
  {
   "cell_type": "code",
   "execution_count": 29,
   "metadata": {
    "collapsed": false
   },
   "outputs": [
    {
     "name": "stdout",
     "output_type": "stream",
     "text": [
      "[436  75 437  74 336  74 743 950 950 956 503 503 968 503 503 503 503 503\n",
      " 503 503]\n",
      "[553 554 554 554 558 559 559 561 558 563 563 563 566 567 567 567 567 571\n",
      " 567 573]\n",
      "[ 850  866  360  360  729   27  760 1007   71  721  721  721  906  449 1037\n",
      "  449  847  847  449 1039]\n",
      "[ 42  91  91  91  90  91  91  87  91 776 772 772  93  84  84 772  84 772\n",
      "  84 772]\n"
     ]
    }
   ],
   "source": [
    "song1_inds = np.argmax(sim1,axis=0)\n",
    "song2_inds = np.argmax(sim2,axis=0)\n",
    "song3_inds = np.argmax(sim3,axis=0)\n",
    "song4_inds = np.argmax(sim4,axis=0)\n",
    "print(song1_inds[100:120])\n",
    "print(song2_inds[100:120])\n",
    "print(song3_inds[100:120])\n",
    "print(song4_inds[100:120])"
   ]
  },
  {
   "cell_type": "code",
   "execution_count": 53,
   "metadata": {
    "collapsed": false
   },
   "outputs": [
    {
     "name": "stdout",
     "output_type": "stream",
     "text": [
      "[ 0.6863467   0.7588668   0.7009244   0.82336847  0.76845767  0.82162631\n",
      "  0.73087871  0.85854694  0.88998162  0.81027322  0.77814735  0.83245118\n",
      "  0.87160473  0.8078428   0.82350479  0.86646178  0.8596771   0.81516008\n",
      "  0.8382492   0.86010894  0.8698353   0.88398613  0.91661368  0.92935339\n",
      "  0.90604193  0.89678198  0.90148472  0.86893544  0.88224019  0.93988142\n",
      "  0.93989149  0.9183942   0.91211833  0.93085281  0.93618443  0.95892468\n",
      "  0.90089644  0.9351527   0.91726443  0.88476224]\n",
      "[ 0.9715385   0.98517861  0.98755965  0.9897928   0.98299603  0.97849747\n",
      "  0.94435143  0.97572145  0.98965431  0.98400318  0.9836749   0.9805703\n",
      "  0.97872501  0.97138457  0.98610194  0.97785421  0.93662677  0.97161253\n",
      "  0.96195084  0.97384101  0.95406982  0.98560013  0.94796125  0.98104864\n",
      "  0.98636899  0.98031999  0.96304839  0.99056083  0.97818533  0.97562922\n",
      "  0.98356014  0.98075019  0.98399055  0.96105136  0.94388394  0.97880283\n",
      "  0.95710394  0.97483052  0.95208883  0.97434911]\n",
      "[ 0.87241874  0.83651162  0.79943393  0.83804184  0.87622708  0.82331182\n",
      "  0.79034059  0.81253459  0.81219192  0.86787593  0.81693105  0.83594312\n",
      "  0.86297951  0.89416329  0.89420628  0.87213401  0.87841555  0.86122659\n",
      "  0.86924766  0.89396993  0.87525647  0.90004525  0.89182735  0.88883426\n",
      "  0.845086    0.88996259  0.85222416  0.8385088   0.85610607  0.85600361\n",
      "  0.90407812  0.92559352  0.87798914  0.83858225  0.92953246  0.9150359\n",
      "  0.88498964  0.86091419  0.89954224  0.92588513]\n",
      "[ 0.8045774   0.80751471  0.7620037   0.81044301  0.81849849  0.86848918\n",
      "  0.77554879  0.84549815  0.80274274  0.73634281  0.71461381  0.68940351\n",
      "  0.70718323  0.76664817  0.78198347  0.78778385  0.85388543  0.87510536\n",
      "  0.87415526  0.83229274  0.83839183  0.79100606  0.81349746  0.76964872\n",
      "  0.74136781  0.7099648   0.70162266  0.70652277  0.75605733  0.77181033\n",
      "  0.76853397  0.72232098  0.69608589  0.77852915  0.76857448  0.79369407\n",
      "  0.76447272  0.73387376  0.75128408  0.80517863]\n"
     ]
    }
   ],
   "source": [
    "print(sim1[song1_inds,np.arange(mfcc_feat_for_test.shape[0])][200:240])\n",
    "print(sim2[song2_inds,np.arange(mfcc_feat_for_test.shape[0])][200:240])\n",
    "print(sim3[song3_inds,np.arange(mfcc_feat_for_test.shape[0])][200:240])\n",
    "print(sim4[song4_inds,np.arange(mfcc_feat_for_test.shape[0])][200:240])"
   ]
  },
  {
   "cell_type": "code",
   "execution_count": 30,
   "metadata": {
    "collapsed": false
   },
   "outputs": [
    {
     "name": "stdout",
     "output_type": "stream",
     "text": [
      "(405.87475738262367, 405.87475738262367, 405.87475738262367, 340.64444825549873)\n"
     ]
    }
   ],
   "source": [
    "sim1_value = np.sum(sim1[song1_inds,np.arange(mfcc_feat_for_test.shape[0])])\n",
    "sim1_value = np.sum(sim2[song2_inds,np.arange(mfcc_feat_for_test.shape[0])])\n",
    "sim1_value = np.sum(sim3[song3_inds,np.arange(mfcc_feat_for_test.shape[0])])\n",
    "sim4_value = np.sum(sim4[song4_inds,np.arange(mfcc_feat_for_test.shape[0])])\n",
    "\n",
    "print(sim1_value,sim1_value,sim1_value,sim4_value)"
   ]
  },
  {
   "cell_type": "code",
   "execution_count": 33,
   "metadata": {
    "collapsed": false
   },
   "outputs": [
    {
     "data": {
      "text/plain": [
       "1006"
      ]
     },
     "execution_count": 33,
     "metadata": {},
     "output_type": "execute_result"
    }
   ],
   "source": [
    "np.diff(song1_inds).sum()"
   ]
  },
  {
   "cell_type": "code",
   "execution_count": 34,
   "metadata": {
    "collapsed": false
   },
   "outputs": [
    {
     "data": {
      "text/plain": [
       "440"
      ]
     },
     "execution_count": 34,
     "metadata": {},
     "output_type": "execute_result"
    }
   ],
   "source": [
    "np.diff(song2_inds).sum()"
   ]
  },
  {
   "cell_type": "code",
   "execution_count": 35,
   "metadata": {
    "collapsed": false
   },
   "outputs": [
    {
     "data": {
      "text/plain": [
       "51"
      ]
     },
     "execution_count": 35,
     "metadata": {},
     "output_type": "execute_result"
    }
   ],
   "source": [
    "np.diff(song3_inds).sum()"
   ]
  },
  {
   "cell_type": "code",
   "execution_count": 36,
   "metadata": {
    "collapsed": false
   },
   "outputs": [
    {
     "data": {
      "text/plain": [
       "-13"
      ]
     },
     "execution_count": 36,
     "metadata": {},
     "output_type": "execute_result"
    }
   ],
   "source": [
    "np.diff(song4_inds).sum()"
   ]
  },
  {
   "cell_type": "code",
   "execution_count": 45,
   "metadata": {
    "collapsed": false
   },
   "outputs": [
    {
     "data": {
      "text/plain": [
       "array([ 9, -1,  1,  1,  2, -2,  4,  0,  2,  0,  1,  2,  0,  1,  2,  0,  2,\n",
       "        0,  1,  1,  1, -1,  4, -1,  7, -2, -3,  3,  7, -2,  0, -3,  1,  3,\n",
       "        2, -2,  1,  3,  1,  2])"
      ]
     },
     "execution_count": 45,
     "metadata": {},
     "output_type": "execute_result"
    }
   ],
   "source": [
    "np.diff(song2_inds)[200:240]"
   ]
  },
  {
   "cell_type": "code",
   "execution_count": 46,
   "metadata": {
    "collapsed": false
   },
   "outputs": [
    {
     "data": {
      "text/plain": [
       "array([  77, -443,    0,    0,  450,  -84,   84, -450,  447,  429, -876,\n",
       "          0,  450,  -84,    0, -366,  443,  -58, -349,  348,  538, -538,\n",
       "        538,    0,  -17,   17, -369,  369, -886,  517,  352, -352, -517,\n",
       "        908, -393,    2,    0,  391, -559,  -35])"
      ]
     },
     "execution_count": 46,
     "metadata": {},
     "output_type": "execute_result"
    }
   ],
   "source": [
    "np.diff(song1_inds)[200:240]"
   ]
  },
  {
   "cell_type": "code",
   "execution_count": 47,
   "metadata": {
    "collapsed": false
   },
   "outputs": [
    {
     "data": {
      "text/plain": [
       "array([-312,   72,  -72,    0,  101, -101,  101,  444, -545,    0,    0,\n",
       "         31,  -31,    1,    0,  544, -474,    3,  464,  290,    4,  242,\n",
       "       -298,  194,    0, -194,  273, -412,    0,    0,    0,    0,  331,\n",
       "       -139,   -1,  -52, -139,  191,    0,  -21])"
      ]
     },
     "execution_count": 47,
     "metadata": {},
     "output_type": "execute_result"
    }
   ],
   "source": [
    "np.diff(song3_inds)[200:240]"
   ]
  },
  {
   "cell_type": "code",
   "execution_count": 48,
   "metadata": {
    "collapsed": false
   },
   "outputs": [
    {
     "data": {
      "text/plain": [
       "array([    0,   -10,   778,  -768,   769,     0,     0,     0,  -774,\n",
       "           0,   773,  -773,   773,  -772,   773,  -775,    -4,     4,\n",
       "           0,   591,     0,  -591,  1092,     0, -1092,  1095,  -366,\n",
       "         363, -1092,     0,     0,  1092, -1092,  1092,  -429,   429,\n",
       "           3, -1095,     0,   664])"
      ]
     },
     "execution_count": 48,
     "metadata": {},
     "output_type": "execute_result"
    }
   ],
   "source": [
    "np.diff(song4_inds)[200:240]"
   ]
  },
  {
   "cell_type": "code",
   "execution_count": 49,
   "metadata": {
    "collapsed": true
   },
   "outputs": [],
   "source": [
    "diff_for_song1 = np.diff(song1_inds)\n",
    "diff_for_song1 = np.where(diff_for_song1>-5,1,0) * np.where(diff_for_song1<5,1,0)\n",
    "\n",
    "diff_for_song2 = np.diff(song2_inds)\n",
    "diff_for_song2 = np.where(diff_for_song2>-5,1,0) * np.where(diff_for_song2<5,1,0)\n",
    "\n",
    "diff_for_song3 = np.diff(song3_inds)\n",
    "diff_for_song3 = np.where(diff_for_song3>-5,1,0) * np.where(diff_for_song3<5,1,0)\n",
    "\n",
    "diff_for_song4 = np.diff(song4_inds)\n",
    "diff_for_song4 = np.where(diff_for_song4>-5,1,0) * np.where(diff_for_song4<5,1,0)"
   ]
  },
  {
   "cell_type": "code",
   "execution_count": 51,
   "metadata": {
    "collapsed": false
   },
   "outputs": [
    {
     "name": "stdout",
     "output_type": "stream",
     "text": [
      "[ 0.          0.          0.82336847  0.76845767  0.          0.          0.\n",
      "  0.          0.          0.          0.          0.87160473  0.          0.\n",
      "  0.86646178  0.          0.          0.          0.          0.          0.\n",
      "  0.          0.          0.90604193  0.          0.          0.          0.\n",
      "  0.          0.          0.          0.          0.          0.          0.\n",
      "  0.90089644  0.9351527   0.          0.          0.        ]\n",
      "[ 0.          0.98755965  0.9897928   0.98299603  0.97849747  0.94435143\n",
      "  0.97572145  0.98965431  0.98400318  0.9836749   0.9805703   0.97872501\n",
      "  0.97138457  0.98610194  0.97785421  0.93662677  0.97161253  0.96195084\n",
      "  0.97384101  0.95406982  0.98560013  0.94796125  0.98104864  0.98636899\n",
      "  0.          0.96304839  0.99056083  0.97818533  0.          0.98356014\n",
      "  0.98075019  0.98399055  0.96105136  0.94388394  0.97880283  0.95710394\n",
      "  0.97483052  0.95208883  0.97434911  0.96439703]\n",
      "[ 0.          0.          0.          0.87622708  0.          0.          0.\n",
      "  0.          0.          0.81693105  0.83594312  0.          0.\n",
      "  0.89420628  0.87213401  0.          0.          0.86924766  0.          0.\n",
      "  0.90004525  0.          0.          0.          0.88996259  0.          0.\n",
      "  0.          0.85600361  0.90407812  0.92559352  0.87798914  0.          0.\n",
      "  0.9150359   0.          0.          0.          0.92588513  0.        ]\n",
      "[ 0.80751471  0.          0.          0.          0.          0.77554879\n",
      "  0.84549815  0.80274274  0.          0.71461381  0.          0.          0.\n",
      "  0.          0.          0.          0.87510536  0.87415526  0.83229274\n",
      "  0.          0.79100606  0.          0.          0.74136781  0.          0.\n",
      "  0.          0.          0.          0.76853397  0.72232098  0.          0.\n",
      "  0.          0.          0.          0.73387376  0.          0.80517863\n",
      "  0.        ]\n"
     ]
    }
   ],
   "source": [
    "result_for_song1 = sim1[song1_inds,np.arange(mfcc_feat_for_test.shape[0])][1:]*diff_for_song1\n",
    "result_for_song2 = sim2[song2_inds,np.arange(mfcc_feat_for_test.shape[0])][1:]*diff_for_song2\n",
    "result_for_song3 = sim3[song3_inds,np.arange(mfcc_feat_for_test.shape[0])][1:]*diff_for_song3\n",
    "result_for_song4 = sim4[song4_inds,np.arange(mfcc_feat_for_test.shape[0])][1:]*diff_for_song4\n",
    "\n",
    "print(result_for_song1[200:240])\n",
    "print(result_for_song2[200:240])\n",
    "print(result_for_song3[200:240])\n",
    "print(result_for_song4[200:240])"
   ]
  },
  {
   "cell_type": "code",
   "execution_count": 52,
   "metadata": {
    "collapsed": false
   },
   "outputs": [
    {
     "name": "stdout",
     "output_type": "stream",
     "text": [
      "(88.334685566611626, 307.98381250118712, 76.642782924693506, 128.91583487076221)\n"
     ]
    }
   ],
   "source": [
    "sim1_value = sum(result_for_song1)\n",
    "sim2_value = sum(result_for_song2)\n",
    "sim3_value = sum(result_for_song3)\n",
    "sim4_value = sum(result_for_song4)\n",
    "\n",
    "print(sim1_value,sim2_value,sim3_value,sim4_value)"
   ]
  },
  {
   "cell_type": "code",
   "execution_count": 64,
   "metadata": {
    "collapsed": false
   },
   "outputs": [
    {
     "name": "stdout",
     "output_type": "stream",
     "text": [
      "(0, 0, 0, 0)\n"
     ]
    }
   ],
   "source": [
    "print(np.sum(diff_for_song1==(-2)),np.sum(diff_for_song2==-2),np.sum(diff_for_song3==-2),np.sum(diff_for_song4==-2))"
   ]
  }
 ],
 "metadata": {
  "anaconda-cloud": {},
  "kernelspec": {
   "display_name": "Python [Root]",
   "language": "python",
   "name": "Python [Root]"
  },
  "language_info": {
   "codemirror_mode": {
    "name": "ipython",
    "version": 2
   },
   "file_extension": ".py",
   "mimetype": "text/x-python",
   "name": "python",
   "nbconvert_exporter": "python",
   "pygments_lexer": "ipython2",
   "version": "2.7.12"
  }
 },
 "nbformat": 4,
 "nbformat_minor": 0
}
